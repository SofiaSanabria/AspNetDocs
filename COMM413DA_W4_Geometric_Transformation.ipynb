{
  "nbformat": 4,
  "nbformat_minor": 0,
  "metadata": {
    "colab": {
      "provenance": [],
      "include_colab_link": true
    },
    "kernelspec": {
      "name": "python3",
      "display_name": "Python 3"
    }
  },
  "cells": [
    {
      "cell_type": "markdown",
      "metadata": {
        "id": "view-in-github",
        "colab_type": "text"
      },
      "source": [
        "<a href=\"https://colab.research.google.com/github/SofiaSanabria/AspNetDocs/blob/master/COMM413DA_W4_Geometric_Transformation.ipynb\" target=\"_parent\"><img src=\"https://colab.research.google.com/assets/colab-badge.svg\" alt=\"Open In Colab\"/></a>"
      ]
    },
    {
      "cell_type": "markdown",
      "source": [
        "[![Open In Colab](https://colab.research.google.com/assets/colab-badge.svg)](https://colab.research.google.com/github/AnjanDutta/ECMM426-ECMM441/blob/main/Notebooks/Bag_of_Visual_Words.ipynb)\n",
        "\n",
        "<H1 style=\"text-align: center\">COMM413DA - Machine Vision (Professional)</H1>\n",
        "<H1 style=\"text-align: center\">Workshop 4</H1>\n",
        "<H1 style=\"text-align: center\">Geometric Transformation</H1>\n",
        "\n"
      ],
      "metadata": {
        "id": "atUG44yfyAYg"
      }
    },
    {
      "cell_type": "markdown",
      "metadata": {
        "id": "fILETbaATF-r"
      },
      "source": [
        "### Dataset"
      ]
    },
    {
      "cell_type": "code",
      "metadata": {
        "id": "TAg6YZjASK1p"
      },
      "source": [
        "import os\n",
        "if not os.path.exists('paired_data.zip'):\n",
        "    !wget --no-check-certificate https://empslocal.ex.ac.uk/people/staff/ad735/ECMM426/paired_data.zip\n",
        "    !unzip -q paired_data.zip"
      ],
      "execution_count": 7,
      "outputs": []
    },
    {
      "cell_type": "markdown",
      "metadata": {
        "id": "OPPRp9DmTKK6"
      },
      "source": [
        "### Utils"
      ]
    },
    {
      "cell_type": "code",
      "metadata": {
        "id": "NAPsyFYETSwa"
      },
      "source": [
        "import pickle\n",
        "def im2single(im):\n",
        "    im = im.astype(np.float32) / 255\n",
        "    return im\n",
        "def cheat_interest_points(eval_file, scale_factor):\n",
        "    \"\"\"\n",
        "    This function is provided for development and debugging but cannot be used in\n",
        "    the final handin. It 'cheats' by generating interest points from known\n",
        "    correspondences. It will only work for the 3 image pairs with known\n",
        "    correspondences.\n",
        "\n",
        "    Args:\n",
        "    - eval_file: string representing the file path to the list of known correspondences\n",
        "    - scale_factor: Python float representing the scale needed to map from the original\n",
        "            image coordinates to the resolution being used for the current experiment.\n",
        "\n",
        "    Returns:\n",
        "    - x1: A numpy array of shape (k,) containing ground truth x-coordinates of imgA correspondence pts\n",
        "    - y1: A numpy array of shape (k,) containing ground truth y-coordinates of imgA correspondence pts\n",
        "    - x2: A numpy array of shape (k,) containing ground truth x-coordinates of imgB correspondence pts\n",
        "    - y2: A numpy array of shape (k,) containing ground truth y-coordinates of imgB correspondence pts\n",
        "    \"\"\"\n",
        "    with open(eval_file, 'rb') as f:\n",
        "        d = pickle.load(f, encoding='latin1')\n",
        "    return d['x1'] * scale_factor, d['y1'] * scale_factor, d['x2'] * scale_factor,\\\n",
        "                    d['y2'] * scale_factor\n",
        "def show_correspondence_lines(imgA, imgB, X1, Y1, X2, Y2, line_colors=None):\n",
        "    \"\"\"\n",
        "    Visualizes corresponding points between two images by drawing a line segment\n",
        "    between the two images for each (x1,y1) (x2,y2) pair.\n",
        "\n",
        "    Args:\n",
        "    - imgA: A numpy array of shape (M,N,3)\n",
        "    - imgB: A numpy array of shape (D,E,3)\n",
        "    - x1: A numpy array of shape (k,) containing x-locations of keypoints in imgA\n",
        "    - y1: A numpy array of shape (k,) containing y-locations of keypoints in imgA\n",
        "    - x2: A numpy array of shape (j,) containing x-locations of keypoints in imgB\n",
        "    - y2: A numpy array of shape (j,) containing y-locations of keypoints in imgB\n",
        "    - line_colors: A numpy array of shape (N x 3) with colors of correspondence lines (optional)\n",
        "\n",
        "    Returns:\n",
        "    - newImg: A numpy array of shape (max(M,D), N+E, 3)\n",
        "    \"\"\"\n",
        "    radius_circle = 20\n",
        "    newImg = hstack_images(imgA, imgB)\n",
        "    shiftX = imgA.shape[1]\n",
        "    X1 = X1.astype(int)\n",
        "    Y1 = Y1.astype(int)\n",
        "    X2 = X2.astype(int)\n",
        "    Y2 = Y2.astype(int)\n",
        "\n",
        "    dot_colors = np.random.rand(len(X1), 3)\n",
        "    if line_colors is None:\n",
        "        line_colors = dot_colors\n",
        "\n",
        "    for x1, y1, x2, y2, dot_color, line_color in zip(X1, Y1, X2, Y2, dot_colors, line_colors):\n",
        "        newImg = cv2.circle(newImg, (int(x1), int(y1)), radius_circle, dot_color, -1)\n",
        "        newImg = cv2.circle(newImg, (int(x2+shiftX), int(y2)), radius_circle, dot_color, -1)\n",
        "        newImg = cv2.line(newImg, (int(x1), int(y1)), (int(x2+shiftX), int(y2)), line_color, 2, cv2.LINE_AA)\n",
        "    return newImg\n",
        "\n",
        "def hstack_images(imgA, imgB):\n",
        "    \"\"\"\n",
        "    Stacks 2 images side-by-side and creates one combined image.\n",
        "\n",
        "    Args:\n",
        "    - imgA: A numpy array of shape (M,N,3) representing rgb image\n",
        "    - imgB: A numpy array of shape (D,E,3) representing rgb image\n",
        "\n",
        "    Returns:\n",
        "    - newImg: A numpy array of shape (max(M,D), N+E, 3)\n",
        "    \"\"\"\n",
        "    Height = max(imgA.shape[0], imgB.shape[0])\n",
        "    Width  = imgA.shape[1] + imgB.shape[1]\n",
        "\n",
        "    newImg = np.zeros((Height, Width, 3), dtype=imgA.dtype)\n",
        "    newImg[:imgA.shape[0], :imgA.shape[1], :] = imgA\n",
        "    newImg[:imgB.shape[0], imgA.shape[1]:, :] = imgB\n",
        "\n",
        "    return newImg"
      ],
      "execution_count": 5,
      "outputs": []
    },
    {
      "cell_type": "markdown",
      "metadata": {
        "id": "yKFUhGFRlUah"
      },
      "source": [
        "### Solution"
      ]
    },
    {
      "cell_type": "code",
      "source": [
        "#solution\n",
        "print(newImg)"
      ],
      "metadata": {
        "id": "sFvQkYAPMjM2",
        "colab": {
          "base_uri": "https://localhost:8080/",
          "height": 183
        },
        "outputId": "cdb6798d-3331-44fe-cf6c-0b64efd499b1"
      },
      "execution_count": 6,
      "outputs": [
        {
          "output_type": "error",
          "ename": "NameError",
          "evalue": "ignored",
          "traceback": [
            "\u001b[0;31m---------------------------------------------------------------------------\u001b[0m",
            "\u001b[0;31mNameError\u001b[0m                                 Traceback (most recent call last)",
            "\u001b[0;32m<ipython-input-6-0a8b495f01b2>\u001b[0m in \u001b[0;36m<cell line: 2>\u001b[0;34m()\u001b[0m\n\u001b[1;32m      1\u001b[0m \u001b[0;31m#solution\u001b[0m\u001b[0;34m\u001b[0m\u001b[0;34m\u001b[0m\u001b[0m\n\u001b[0;32m----> 2\u001b[0;31m \u001b[0mprint\u001b[0m\u001b[0;34m(\u001b[0m\u001b[0mnewImg\u001b[0m\u001b[0;34m)\u001b[0m\u001b[0;34m\u001b[0m\u001b[0;34m\u001b[0m\u001b[0m\n\u001b[0m",
            "\u001b[0;31mNameError\u001b[0m: name 'newImg' is not defined"
          ]
        }
      ]
    }
  ]
}